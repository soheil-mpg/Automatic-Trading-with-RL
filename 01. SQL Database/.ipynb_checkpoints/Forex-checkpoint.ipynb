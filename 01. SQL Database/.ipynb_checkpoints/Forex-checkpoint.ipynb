{
 "cells": [
  {
   "cell_type": "markdown",
   "metadata": {},
   "source": [
    "# Forex"
   ]
  },
  {
   "cell_type": "code",
   "execution_count": 1,
   "metadata": {},
   "outputs": [],
   "source": [
    "# Import the libraries\n",
    "import time\n",
    "import pandas as pd\n",
    "from IPython.display import clear_output\n",
    "from selenium import webdriver\n",
    "from selenium.webdriver.common.keys import Keys# Import the libraries\n",
    "import time\n",
    "import pandas as pd\n",
    "from IPython.display import clear_output\n",
    "from selenium import webdriver\n",
    "from selenium.webdriver.common.keys import Keys\n",
    "import psycopg2\n",
    "from psycopg2 import sql\n",
    "from psycopg2.extensions import ISOLATION_LEVEL_AUTOCOMMIT \n",
    "from IPython.display import clear_output"
   ]
  },
  {
   "cell_type": "code",
   "execution_count": 2,
   "metadata": {},
   "outputs": [],
   "source": [
    "# Sleep untill market opens\n",
    "time.sleep(3.5 * 60 * 60)  # Seconds = 4 Hour * 60 Minute * 60 Seconds"
   ]
  },
  {
   "cell_type": "code",
   "execution_count": 2,
   "metadata": {},
   "outputs": [],
   "source": [
    "# Open Chrome\n",
    "driver = webdriver.Chrome()\n",
    "\n",
    "# Maximize the windows\n",
    "driver.maximize_window()\n",
    "\n",
    "# Go the website\n",
    "driver.get('https://www.forex.com/en/account-login/') "
   ]
  },
  {
   "cell_type": "code",
   "execution_count": 4,
   "metadata": {},
   "outputs": [],
   "source": [
    "# Wait 60 seconds \n",
    "time.sleep(60)"
   ]
  },
  {
   "cell_type": "code",
   "execution_count": 3,
   "metadata": {},
   "outputs": [],
   "source": [
    "# Add username\n",
    "usernameElement = driver.find_element_by_name(\"Username\")\n",
    "usernameElement.clear()\n",
    "usernameElement.send_keys(\"soheil.mpg2\")\n",
    "\n",
    "# Add password\n",
    "passwordElement = driver.find_element_by_name(\"Password\")\n",
    "passwordElement.clear()\n",
    "passwordElement.send_keys(\"S6989490m\")\n",
    "\n",
    "# Enter\n",
    "passwordElement.send_keys(Keys.RETURN)"
   ]
  },
  {
   "cell_type": "code",
   "execution_count": 6,
   "metadata": {},
   "outputs": [],
   "source": [
    "# Wait 120 seconds \n",
    "time.sleep(120)"
   ]
  },
  {
   "cell_type": "code",
   "execution_count": 4,
   "metadata": {},
   "outputs": [],
   "source": [
    "# Minimize the notification\n",
    "driver.find_elements_by_class_name(\"tip__back-later\")[0].click()\n",
    "\n",
    "# Click on the FX tab\n",
    "driver.find_elements_by_class_name(\"markets-tags__item\")[2].click()\n",
    "\n",
    "# Click on the Major FX tab\n",
    "driver.find_elements(by = \"class name\", value = \"markets-filter__tab\")[1].click()# Minimize the notification"
   ]
  },
  {
   "cell_type": "code",
   "execution_count": 8,
   "metadata": {},
   "outputs": [],
   "source": [
    "# Wait 60 seconds \n",
    "time.sleep(60)"
   ]
  },
  {
   "cell_type": "code",
   "execution_count": null,
   "metadata": {},
   "outputs": [
    {
     "name": "stdout",
     "output_type": "stream",
     "text": [
      "47 rows of data have been retrieved.\n"
     ]
    }
   ],
   "source": [
    "# Initialize the step count\n",
    "step_count = 0\n",
    "\n",
    "# Infinite loop\n",
    "while True:\n",
    "\n",
    "    # Get the time in epoch\n",
    "    epoch_time = int(time.time())\n",
    "\n",
    "    # Get the row data\n",
    "    rowsData = driver.find_elements(by = \"class name\", value = \"table__row-body\")\n",
    "\n",
    "    # Loop over the 7 types of ticker data\n",
    "    for index in range(8):\n",
    "\n",
    "        # Connect to the database\n",
    "        con = psycopg2.connect(database = \"FOREX\", \n",
    "                               user = \"postgres\", \n",
    "                               password = \"6989490\", \n",
    "                               host = \"127.0.0.1\", \n",
    "                               port = \"5432\")\n",
    "\n",
    "        # Initialize a cursor\n",
    "        cur = con.cursor()\n",
    "\n",
    "        # Get all the data\n",
    "        data = rowsData[index].text.split() + [epoch_time]\n",
    "        \n",
    "        # Add data to SQL database\n",
    "        cur.execute(f\"INSERT INTO Forex_2020_July (ticker,SELL,BUY,CHANGE,CHANGE_PERCENTAGE,TIME) VALUES ('{data[0]}',{float(data[1])},{float(data[2])},{float(data[3])},{float(data[4])},{int(data[5])})\")\n",
    "\n",
    "        # Commit and close the connection\n",
    "        con.commit()\n",
    "        con.close()\n",
    "\n",
    "        # Increment the step count\n",
    "        step_count += 1\n",
    "\n",
    "        # Report\n",
    "        clear_output(wait = True)\n",
    "        print(\"{} rows of data have been retrieved.\".format(step_count))"
   ]
  },
  {
   "cell_type": "markdown",
   "metadata": {},
   "source": [
    "# The End"
   ]
  }
 ],
 "metadata": {
  "file_extension": ".py",
  "kernelspec": {
   "display_name": "rl",
   "language": "python",
   "name": "rl"
  },
  "language_info": {
   "codemirror_mode": {
    "name": "ipython",
    "version": 3
   },
   "file_extension": ".py",
   "mimetype": "text/x-python",
   "name": "python",
   "nbconvert_exporter": "python",
   "pygments_lexer": "ipython3",
   "version": "3.7.7"
  },
  "mimetype": "text/x-python",
  "name": "python",
  "npconvert_exporter": "python",
  "pygments_lexer": "ipython3",
  "version": 3
 },
 "nbformat": 4,
 "nbformat_minor": 2
}
