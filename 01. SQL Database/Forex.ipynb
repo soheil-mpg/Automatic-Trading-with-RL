{
 "cells": [
  {
   "cell_type": "markdown",
   "metadata": {},
   "source": [
    "# Forex"
   ]
  },
  {
   "cell_type": "code",
   "execution_count": 1,
   "metadata": {},
   "outputs": [],
   "source": [
    "# Import the libraries\n",
    "import time\n",
    "import pandas as pd\n",
    "from IPython.display import clear_output\n",
    "from selenium import webdriver\n",
    "from selenium.webdriver.common.keys import Keys# Import the libraries\n",
    "import time\n",
    "import pandas as pd\n",
    "from IPython.display import clear_output\n",
    "from selenium import webdriver\n",
    "from selenium.webdriver.common.keys import Keys\n",
    "import psycopg2\n",
    "from psycopg2 import sql\n",
    "from psycopg2.extensions import ISOLATION_LEVEL_AUTOCOMMIT \n",
    "from IPython.display import clear_output"
   ]
  },
  {
   "cell_type": "code",
   "execution_count": 2,
   "metadata": {},
   "outputs": [],
   "source": [
    "# Sleep untill market opens\n",
    "time.sleep(3.5 * 60 * 60)  # Seconds = 4 Hour * 60 Minute * 60 Seconds"
   ]
  },
  {
   "cell_type": "code",
   "execution_count": 4,
   "metadata": {},
   "outputs": [],
   "source": [
    "# Open Chrome\n",
    "driver = webdriver.Chrome()\n",
    "\n",
    "# Maximize the windows\n",
    "driver.maximize_window()\n",
    "\n",
    "# Go the website\n",
    "driver.get('https://www.forex.com/en/account-login/') "
   ]
  },
  {
   "cell_type": "code",
   "execution_count": 4,
   "metadata": {},
   "outputs": [],
   "source": [
    "# Wait 60 seconds \n",
    "time.sleep(60)"
   ]
  },
  {
   "cell_type": "code",
   "execution_count": 5,
   "metadata": {},
   "outputs": [],
   "source": [
    "# Add username\n",
    "usernameElement = driver.find_element_by_name(\"Username\")\n",
    "usernameElement.clear()\n",
    "usernameElement.send_keys(\"soheil.mpg2\")\n",
    "\n",
    "# Add password\n",
    "passwordElement = driver.find_element_by_name(\"Password\")\n",
    "passwordElement.clear()\n",
    "passwordElement.send_keys(\"S6989490m\")\n",
    "\n",
    "# Enter\n",
    "passwordElement.send_keys(Keys.RETURN)"
   ]
  },
  {
   "cell_type": "code",
   "execution_count": 6,
   "metadata": {},
   "outputs": [],
   "source": [
    "# Wait 120 seconds \n",
    "time.sleep(120)"
   ]
  },
  {
   "cell_type": "code",
   "execution_count": 6,
   "metadata": {},
   "outputs": [],
   "source": [
    "# Minimize the notification\n",
    "driver.find_elements_by_class_name(\"tip__back-later\")[0].click()\n",
    "\n",
    "# Click on the FX tab\n",
    "driver.find_elements_by_class_name(\"markets-tags__item\")[2].click()\n",
    "\n",
    "# Click on the Major FX tab\n",
    "driver.find_elements(by = \"class name\", value = \"markets-filter__tab\")[1].click()# Minimize the notification"
   ]
  },
  {
   "cell_type": "code",
   "execution_count": 8,
   "metadata": {},
   "outputs": [],
   "source": [
    "# Wait 60 seconds \n",
    "time.sleep(60)"
   ]
  },
  {
   "cell_type": "code",
   "execution_count": 9,
   "metadata": {},
   "outputs": [
    {
     "data": {
      "text/plain": "[<selenium.webdriver.remote.webelement.WebElement (session=\"3a370757e97f85f2ef3f490d186d97cb\", element=\"bd70de42-0375-4e3f-92c0-b00cb13ece31\")>,\n <selenium.webdriver.remote.webelement.WebElement (session=\"3a370757e97f85f2ef3f490d186d97cb\", element=\"3b18ef48-fd60-4bf3-83f9-499a77714e60\")>,\n <selenium.webdriver.remote.webelement.WebElement (session=\"3a370757e97f85f2ef3f490d186d97cb\", element=\"c852574b-3d9b-49e7-bb7d-3bffd2b8c06f\")>,\n <selenium.webdriver.remote.webelement.WebElement (session=\"3a370757e97f85f2ef3f490d186d97cb\", element=\"e331fc9b-2538-4849-beec-0f91b4560b53\")>,\n <selenium.webdriver.remote.webelement.WebElement (session=\"3a370757e97f85f2ef3f490d186d97cb\", element=\"f9a1f8ec-ba5b-4583-81ac-e63e9f78cf7e\")>,\n <selenium.webdriver.remote.webelement.WebElement (session=\"3a370757e97f85f2ef3f490d186d97cb\", element=\"d08b5479-3aee-47bb-9e8f-ab9e7ff225f6\")>,\n <selenium.webdriver.remote.webelement.WebElement (session=\"3a370757e97f85f2ef3f490d186d97cb\", element=\"567682c9-aee7-486d-8009-f52c5421c7d9\")>,\n <selenium.webdriver.remote.webelement.WebElement (session=\"3a370757e97f85f2ef3f490d186d97cb\", element=\"8f21279b-63ec-4889-ac53-fb73fc118c60\")>]"
     },
     "execution_count": 9,
     "metadata": {},
     "output_type": "execute_result"
    }
   ],
   "source": [
    "# Get the row data\n",
    "rowsData = driver.find_elements(by = \"class name\", value = \"table__row-body\")\n",
    "rowsData"
   ]
  },
  {
   "cell_type": "code",
   "execution_count": 21,
   "metadata": {},
   "outputs": [
    {
     "data": {
      "text/html": "<div>\n<style scoped>\n    .dataframe tbody tr th:only-of-type {\n        vertical-align: middle;\n    }\n\n    .dataframe tbody tr th {\n        vertical-align: top;\n    }\n\n    .dataframe thead th {\n        text-align: right;\n    }\n</style>\n<table border=\"1\" class=\"dataframe\">\n  <thead>\n    <tr style=\"text-align: right;\">\n      <th></th>\n      <th>ticker</th>\n      <th>sell</th>\n      <th>buy</th>\n    </tr>\n  </thead>\n  <tbody>\n    <tr>\n      <th>0</th>\n      <td>AUD/USD</td>\n      <td>0.69836</td>\n      <td>0.69853</td>\n    </tr>\n    <tr>\n      <th>1</th>\n      <td>NZD/USD</td>\n      <td>0.65444</td>\n      <td>0.65480</td>\n    </tr>\n    <tr>\n      <th>2</th>\n      <td>USD/CAD</td>\n      <td>1.35853</td>\n      <td>1.35880</td>\n    </tr>\n    <tr>\n      <th>3</th>\n      <td>EUR/JPY</td>\n      <td>122.133</td>\n      <td>122.158</td>\n    </tr>\n    <tr>\n      <th>4</th>\n      <td>EUR/USD</td>\n      <td>1.13975</td>\n      <td>1.13991</td>\n    </tr>\n    <tr>\n      <th>5</th>\n      <td>GBP/USD</td>\n      <td>1.25398</td>\n      <td>1.25418</td>\n    </tr>\n    <tr>\n      <th>6</th>\n      <td>USD/JPY</td>\n      <td>107.157</td>\n      <td>107.169</td>\n    </tr>\n    <tr>\n      <th>7</th>\n      <td>USD/CHF</td>\n      <td>0.94396</td>\n      <td>0.94421</td>\n    </tr>\n  </tbody>\n</table>\n</div>",
      "text/plain": "    ticker     sell      buy\n0  AUD/USD  0.69836  0.69853\n1  NZD/USD  0.65444  0.65480\n2  USD/CAD  1.35853  1.35880\n3  EUR/JPY  122.133  122.158\n4  EUR/USD  1.13975  1.13991\n5  GBP/USD  1.25398  1.25418\n6  USD/JPY  107.157  107.169\n7  USD/CHF  0.94396  0.94421"
     },
     "execution_count": 21,
     "metadata": {},
     "output_type": "execute_result"
    }
   ],
   "source": [
    "dataset_current"
   ]
  },
  {
   "cell_type": "code",
   "execution_count": 6,
   "metadata": {},
   "outputs": [
    {
     "name": "stdout",
     "output_type": "stream",
     "text": "383169 rows of data have been retrieved.\n"
    }
   ],
   "source": [
    "# Initialize the step count\n",
    "step_count = 0\n",
    "\n",
    "# Infinite loop\n",
    "while True:\n",
    "\n",
    "    # Get the time in epoch\n",
    "    epoch_time = int(time.time())\n",
    "\n",
    "    # Get the row data\n",
    "    rowsData = driver.find_elements(by = \"class name\", value = \"table__row-body\")\n",
    "\n",
    "    # Loop over the 7 types of ticker data\n",
    "    for index in range(8):\n",
    "\n",
    "        # Connect to the database\n",
    "        con = psycopg2.connect(database = \"FOREX\", \n",
    "                               user = \"postgres\", \n",
    "                               password = \"6989490\", \n",
    "                               host = \"127.0.0.1\", \n",
    "                               port = \"5432\")\n",
    "\n",
    "        # Initialize a cursor\n",
    "        cur = con.cursor()\n",
    "\n",
    "        # Get all the data\n",
    "        data = rowsData[index].text.split() + [epoch_time]\n",
    "        \n",
    "        # Add data to SQL database\n",
    "        cur.execute(f\"INSERT INTO Forex_2020_July (ticker,SELL,BUY,CHANGE,CHANGE_PERCENTAGE,TIME) VALUES ('{data[0]}',{float(data[1])},{float(data[2])},{float(data[3])},{float(data[4])},{int(data[5])})\")\n",
    "\n",
    "        # Commit and close the connection\n",
    "        con.commit()\n",
    "        con.close()\n",
    "\n",
    "        # Increment the step count\n",
    "        step_count += 1\n",
    "\n",
    "        # Report\n",
    "        clear_output(wait = True)\n",
    "        print(\"{} rows of data have been retrieved.\".format(step_count))"
   ]
  },
  {
   "cell_type": "markdown",
   "metadata": {},
   "source": [
    "# The End"
   ]
  }
 ],
 "metadata": {
  "file_extension": ".py",
  "kernelspec": {
   "display_name": "rl",
   "language": "python",
   "name": "rl"
  },
  "language_info": {
   "codemirror_mode": {
    "name": "ipython",
    "version": 3
   },
   "file_extension": ".py",
   "mimetype": "text/x-python",
   "name": "python",
   "nbconvert_exporter": "python",
   "pygments_lexer": "ipython3",
   "version": "3.6.5-final"
  },
  "mimetype": "text/x-python",
  "name": "python",
  "npconvert_exporter": "python",
  "pygments_lexer": "ipython3",
  "version": 3
 },
 "nbformat": 4,
 "nbformat_minor": 2
}