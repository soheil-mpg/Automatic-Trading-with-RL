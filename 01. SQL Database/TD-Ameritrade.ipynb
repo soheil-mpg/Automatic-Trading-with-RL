{
 "nbformat": 4,
 "nbformat_minor": 2,
 "metadata": {
  "language_info": {
   "name": "python",
   "codemirror_mode": {
    "name": "ipython",
    "version": 3
   },
   "version": "3.7.7-final"
  },
  "orig_nbformat": 2,
  "file_extension": ".py",
  "mimetype": "text/x-python",
  "name": "python",
  "npconvert_exporter": "python",
  "pygments_lexer": "ipython3",
  "version": 3,
  "kernelspec": {
   "name": "python37764bitrlconda1a81622273ff40aba396eb7e9d60205b",
   "display_name": "Python 3.7.7 64-bit ('rl': conda)"
  }
 },
 "cells": [
  {
   "cell_type": "markdown",
   "execution_count": null,
   "metadata": {},
   "outputs": [],
   "source": [
    "# TD Ameritrade"
   ]
  },
  {
   "cell_type": "code",
   "execution_count": 1,
   "metadata": {},
   "outputs": [],
   "source": [
    "# Import the libraries\n",
    "import psycopg2\n",
    "from psycopg2 import sql\n",
    "from psycopg2.extensions import ISOLATION_LEVEL_AUTOCOMMIT \n",
    "from IPython.display import clear_output\n",
    "import pandas as pd\n",
    "import requests\n",
    "import time\n",
    "from IPython.display import clear_output"
   ]
  },
  {
   "cell_type": "code",
   "execution_count": 2,
   "metadata": {},
   "outputs": [],
   "source": [
    "# Client ID\n",
    "client_id = \"YourClientID\""
   ]
  },
  {
   "cell_type": "code",
   "execution_count": 3,
   "metadata": {},
   "outputs": [],
   "source": [
    "# Endpoint\n",
    "endpoint = r\"https://api.tdameritrade.com/v1/marketdata/quotes\""
   ]
  },
  {
   "cell_type": "code",
   "execution_count": 16,
   "metadata": {},
   "outputs": [
    {
     "name": "stdout",
     "output_type": "stream",
     "text": "GOOG,MSFT,AAPL,PINS,TSLA\n"
    }
   ],
   "source": [
    "# Set the ticker names\n",
    "ticker_names = [\"GOOG\", \"MSFT\", \"AAPL\", \"PINS\", \"TSLA\"]\n",
    "ticker_names = \",\".join(ticker_names)"
   ]
  },
  {
   "cell_type": "code",
   "execution_count": null,
   "metadata": {},
   "outputs": [],
   "source": [
    "# Initialise the step count\n",
    "step_count = 0\n",
    "\n",
    "# Infinite loop \n",
    "while True:\n",
    "        \n",
    "    # Make a request\n",
    "    content = requests.get(url = endpoint, params = {\"apikey\": client_id, \"symbol\": ticker_names})\n",
    "\n",
    "    # Convert data into a json dictionary\n",
    "    data = pd.DataFrame(content.json())\n",
    "\n",
    "    # Get the time in epoch\n",
    "    epoch_time = int(time.time())\n",
    "\n",
    "    # Loop over the ticker names\n",
    "    for i_ticker in data:\n",
    "\n",
    "        # Get the ticker data\n",
    "        data_temp = data[i_ticker]\n",
    "\n",
    "        # Connect to the database\n",
    "        con = psycopg2.connect(database = \"TDAMERITRADE\", \n",
    "                               user = \"postgres\", \n",
    "                               password = \"6989490\", \n",
    "                               host = \"127.0.0.1\", \n",
    "                               port = \"5432\")\n",
    "\n",
    "        # Initialize a cursor\n",
    "        cur = con.cursor()\n",
    "        \n",
    "        # Add data to SQL database\n",
    "        cur.execute(\"INSERT INTO TD_Ameritrade_2020_July (assetType, assetMainType, cusip, symbol, description, bidPrice, bidSize, bidId, askPrice, askSize, askId, lastPrice, lastSize, lastId, openPrice, highPrice, lowPrice, bidTick, closePrice, netChange, totalVolume, quoteTimeInLong, tradeTimeInLong, mark, exchange, exchangeName, marginable, shortable, volatility, digits, High52Wk, Low52Wk, nAV, peRatio, divAmount, divYield, divDate, securityStatus, regularMarketLastPrice, regularMarketLastSize, regularMarketNetChange, regularMarketTradeTimeInLong, netPercentChangeInDouble, markChangeInDouble, markPercentChangeInDouble, regularMarketPercentChangeInDouble, delayed, time) VALUES {}\".format(tuple(data_temp) + (epoch_time,)))\n",
    "\n",
    "        # Commit and close the connection\n",
    "        con.commit()\n",
    "        con.close()\n",
    "\n",
    "        # Increment the step count\n",
    "        step_count += 1\n",
    "\n",
    "        # Report\n",
    "        clear_output(wait = True)\n",
    "        print(\"{} rows of data have been retrieved.\".format(step_count))"
   ]
  },
  {
   "cell_type": "markdown",
   "execution_count": null,
   "metadata": {},
   "outputs": [],
   "source": [
    "# The End!"
   ]
  }
 ]
}