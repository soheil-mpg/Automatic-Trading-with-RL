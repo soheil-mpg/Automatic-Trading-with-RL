{
 "cells": [
  {
   "cell_type": "markdown",
   "metadata": {},
   "source": [
    "<h1 style=\"text-align:center;\">Training the Model</h1>"
   ]
  },
  {
   "cell_type": "markdown",
   "metadata": {},
   "source": [
    "<br>\n",
    "\n",
    "# Import the Packages\n",
    "\n",
    "---"
   ]
  },
  {
   "cell_type": "code",
   "execution_count": 1,
   "metadata": {},
   "outputs": [],
   "source": [
    "# Import the libraries\n",
    "import numpy as np\n",
    "import pandas as pd\n",
    "from glob import glob\n",
    "import matplotlib as mpl\n",
    "import mplfinance as mpf\n",
    "from typing import Iterable\n",
    "import matplotlib.pyplot as plt\n",
    "from datetime import datetime, timedelta\n",
    "from IPython.display import clear_output\n",
    "from IPython.core.display import display, HTML\n",
    "import gym, gym.wrappers, time, requests, json, enum, warnings, pathlib\n",
    "%matplotlib inline"
   ]
  },
  {
   "cell_type": "code",
   "execution_count": 2,
   "metadata": {},
   "outputs": [],
   "source": [
    "# Import the libraries for DL and RL\n",
    "import torch\n",
    "from torch import nn\n",
    "import torch.utils.data\n",
    "import torch.optim as optim\n",
    "from torch.functional import F\n",
    "from torchsummary import summary\n",
    "import ptan\n",
    "import ptan.ignite as ptan_ignite\n",
    "from ignite.engine import Engine\n",
    "from ignite.metrics import RunningAverage\n",
    "from ignite.contrib.handlers import tensorboard_logger as tb_logger"
   ]
  },
  {
   "cell_type": "code",
   "execution_count": 3,
   "metadata": {},
   "outputs": [],
   "source": [
    "# Import the local libraries\n",
    "from models import cnn_lstm\n",
    "from environment import forex_trading_environment\n",
    "from reinforcement_learning import rainbow\n",
    "from data_helper import *"
   ]
  },
  {
   "cell_type": "markdown",
   "metadata": {},
   "source": [
    "<br>\n",
    "\n",
    "# Credentials\n",
    "\n",
    "---"
   ]
  },
  {
   "cell_type": "code",
   "execution_count": 4,
   "metadata": {},
   "outputs": [
    {
     "data": {
      "text/html": [
       "<div>\n",
       "<style scoped>\n",
       "    .dataframe tbody tr th:only-of-type {\n",
       "        vertical-align: middle;\n",
       "    }\n",
       "\n",
       "    .dataframe tbody tr th {\n",
       "        vertical-align: top;\n",
       "    }\n",
       "\n",
       "    .dataframe thead th {\n",
       "        text-align: right;\n",
       "    }\n",
       "</style>\n",
       "<table border=\"1\" class=\"dataframe\">\n",
       "  <thead>\n",
       "    <tr style=\"text-align: right;\">\n",
       "      <th></th>\n",
       "      <th>Username</th>\n",
       "      <th>Password</th>\n",
       "    </tr>\n",
       "  </thead>\n",
       "  <tbody>\n",
       "    <tr>\n",
       "      <th>0</th>\n",
       "      <td>soheil.mpg2</td>\n",
       "      <td>S6989490m</td>\n",
       "    </tr>\n",
       "  </tbody>\n",
       "</table>\n",
       "</div>"
      ],
      "text/plain": [
       "      Username   Password\n",
       "0  soheil.mpg2  S6989490m"
      ]
     },
     "execution_count": 4,
     "metadata": {},
     "output_type": "execute_result"
    }
   ],
   "source": [
    "# Load the credential file\n",
    "login_info = pd.read_excel(\"./credentials/forex login information.xlsx\")\n",
    "login_info"
   ]
  },
  {
   "cell_type": "code",
   "execution_count": 5,
   "metadata": {},
   "outputs": [],
   "source": [
    "# Get the username and password\n",
    "username_forex = login_info[\"Username\"][0]\n",
    "password_forex = login_info[\"Password\"][0]"
   ]
  },
  {
   "cell_type": "markdown",
   "metadata": {},
   "source": [
    "<br>\n",
    "\n",
    "# Load the Dataset\n",
    "\n",
    "---"
   ]
  },
  {
   "cell_type": "code",
   "execution_count": 6,
   "metadata": {},
   "outputs": [
    {
     "name": "stdout",
     "output_type": "stream",
     "text": [
      "Dataset Shape:  (5037257, 4)\n"
     ]
    },
    {
     "data": {
      "text/html": [
       "<div>\n",
       "<style scoped>\n",
       "    .dataframe tbody tr th:only-of-type {\n",
       "        vertical-align: middle;\n",
       "    }\n",
       "\n",
       "    .dataframe tbody tr th {\n",
       "        vertical-align: top;\n",
       "    }\n",
       "\n",
       "    .dataframe thead th {\n",
       "        text-align: right;\n",
       "    }\n",
       "</style>\n",
       "<table border=\"1\" class=\"dataframe\">\n",
       "  <thead>\n",
       "    <tr style=\"text-align: right;\">\n",
       "      <th></th>\n",
       "      <th>Ticker</th>\n",
       "      <th>Timestep</th>\n",
       "      <th>Sell</th>\n",
       "      <th>Buy</th>\n",
       "    </tr>\n",
       "  </thead>\n",
       "  <tbody>\n",
       "    <tr>\n",
       "      <th>0</th>\n",
       "      <td>AUD/USD</td>\n",
       "      <td>1594623326</td>\n",
       "      <td>0.69776</td>\n",
       "      <td>0.69791</td>\n",
       "    </tr>\n",
       "    <tr>\n",
       "      <th>8</th>\n",
       "      <td>AUD/USD</td>\n",
       "      <td>1594623327</td>\n",
       "      <td>0.69777</td>\n",
       "      <td>0.69792</td>\n",
       "    </tr>\n",
       "    <tr>\n",
       "      <th>16</th>\n",
       "      <td>AUD/USD</td>\n",
       "      <td>1594623328</td>\n",
       "      <td>0.69781</td>\n",
       "      <td>0.69795</td>\n",
       "    </tr>\n",
       "    <tr>\n",
       "      <th>24</th>\n",
       "      <td>AUD/USD</td>\n",
       "      <td>1594623328</td>\n",
       "      <td>0.69781</td>\n",
       "      <td>0.69795</td>\n",
       "    </tr>\n",
       "    <tr>\n",
       "      <th>32</th>\n",
       "      <td>AUD/USD</td>\n",
       "      <td>1594623329</td>\n",
       "      <td>0.69781</td>\n",
       "      <td>0.69795</td>\n",
       "    </tr>\n",
       "  </tbody>\n",
       "</table>\n",
       "</div>"
      ],
      "text/plain": [
       "     Ticker    Timestep     Sell      Buy\n",
       "0   AUD/USD  1594623326  0.69776  0.69791\n",
       "8   AUD/USD  1594623327  0.69777  0.69792\n",
       "16  AUD/USD  1594623328  0.69781  0.69795\n",
       "24  AUD/USD  1594623328  0.69781  0.69795\n",
       "32  AUD/USD  1594623329  0.69781  0.69795"
      ]
     },
     "execution_count": 6,
     "metadata": {},
     "output_type": "execute_result"
    }
   ],
   "source": [
    "# Load the dataset\n",
    "dataset = pd.read_csv(\"./datasets/train/dataset.csv\").reset_index()[[\"ticker\", \"time\", \"sell\", \"buy\"]]\n",
    "dataset = dataset.sort_values(by = [\"ticker\", \"time\"])\n",
    "dataset.columns = [\"Ticker\", \"Timestep\", \"Sell\", \"Buy\"]\n",
    "print(\"Dataset Shape: \", dataset.shape)\n",
    "dataset.head()"
   ]
  },
  {
   "cell_type": "code",
   "execution_count": 7,
   "metadata": {},
   "outputs": [
    {
     "name": "stdout",
     "output_type": "stream",
     "text": [
      "Dataset Shape:  (5036757, 32)\n"
     ]
    },
    {
     "data": {
      "text/html": [
       "<div>\n",
       "<style scoped>\n",
       "    .dataframe tbody tr th:only-of-type {\n",
       "        vertical-align: middle;\n",
       "    }\n",
       "\n",
       "    .dataframe tbody tr th {\n",
       "        vertical-align: top;\n",
       "    }\n",
       "\n",
       "    .dataframe thead th {\n",
       "        text-align: right;\n",
       "    }\n",
       "</style>\n",
       "<table border=\"1\" class=\"dataframe\">\n",
       "  <thead>\n",
       "    <tr style=\"text-align: right;\">\n",
       "      <th></th>\n",
       "      <th>Timestep</th>\n",
       "      <th>Sell</th>\n",
       "      <th>Buy</th>\n",
       "      <th>Spread</th>\n",
       "      <th>Change - Sell</th>\n",
       "      <th>Simple Moving Average (SMA) - Sell</th>\n",
       "      <th>Exponential Moving Average (EMA) - Sell</th>\n",
       "      <th>Bollinger Bands (Upper) - Sell</th>\n",
       "      <th>Bollinger Bands (Lower) - Sell</th>\n",
       "      <th>Standard Deviation (STD) - Sell</th>\n",
       "      <th>...</th>\n",
       "      <th>Bollinger Bands (Lower) - Buy</th>\n",
       "      <th>Standard Deviation (STD) - Buy</th>\n",
       "      <th>Sharpe Ratio - Buy</th>\n",
       "      <th>Relative Strength Index (RSI) via EWMA - Buy</th>\n",
       "      <th>Relative Strength Index (RSI) via SMA - Buy</th>\n",
       "      <th>Fibonacci Retracement (Price Min) - Buy</th>\n",
       "      <th>Fibonacci Retracement (Level 1) - Buy</th>\n",
       "      <th>Fibonacci Retracement (Level 2) - Buy</th>\n",
       "      <th>Fibonacci Retracement (Level 3) - Buy</th>\n",
       "      <th>Fibonacci Retracement (Price Max) - Buy</th>\n",
       "    </tr>\n",
       "  </thead>\n",
       "  <tbody>\n",
       "    <tr>\n",
       "      <th>0</th>\n",
       "      <td>1594623636</td>\n",
       "      <td>0.69802</td>\n",
       "      <td>0.69818</td>\n",
       "      <td>0.00016</td>\n",
       "      <td>0.000000</td>\n",
       "      <td>0.697776</td>\n",
       "      <td>0.697791</td>\n",
       "      <td>0.697966</td>\n",
       "      <td>0.697586</td>\n",
       "      <td>0.000095</td>\n",
       "      <td>...</td>\n",
       "      <td>0.697738</td>\n",
       "      <td>0.000094</td>\n",
       "      <td>0.041587</td>\n",
       "      <td>58.401030</td>\n",
       "      <td>55.378486</td>\n",
       "      <td>0.69778</td>\n",
       "      <td>0.698093</td>\n",
       "      <td>0.698033</td>\n",
       "      <td>0.697937</td>\n",
       "      <td>0.69819</td>\n",
       "    </tr>\n",
       "    <tr>\n",
       "      <th>1</th>\n",
       "      <td>1594623636</td>\n",
       "      <td>0.69803</td>\n",
       "      <td>0.69817</td>\n",
       "      <td>0.00014</td>\n",
       "      <td>0.000014</td>\n",
       "      <td>0.697777</td>\n",
       "      <td>0.697792</td>\n",
       "      <td>0.697968</td>\n",
       "      <td>0.697586</td>\n",
       "      <td>0.000096</td>\n",
       "      <td>...</td>\n",
       "      <td>0.697737</td>\n",
       "      <td>0.000095</td>\n",
       "      <td>0.038502</td>\n",
       "      <td>57.977625</td>\n",
       "      <td>54.980080</td>\n",
       "      <td>0.69778</td>\n",
       "      <td>0.698093</td>\n",
       "      <td>0.698033</td>\n",
       "      <td>0.697937</td>\n",
       "      <td>0.69819</td>\n",
       "    </tr>\n",
       "    <tr>\n",
       "      <th>2</th>\n",
       "      <td>1594623637</td>\n",
       "      <td>0.69802</td>\n",
       "      <td>0.69817</td>\n",
       "      <td>0.00015</td>\n",
       "      <td>-0.000014</td>\n",
       "      <td>0.697777</td>\n",
       "      <td>0.697792</td>\n",
       "      <td>0.697970</td>\n",
       "      <td>0.697585</td>\n",
       "      <td>0.000096</td>\n",
       "      <td>...</td>\n",
       "      <td>0.697737</td>\n",
       "      <td>0.000096</td>\n",
       "      <td>0.034059</td>\n",
       "      <td>57.977625</td>\n",
       "      <td>54.435484</td>\n",
       "      <td>0.69778</td>\n",
       "      <td>0.698093</td>\n",
       "      <td>0.698033</td>\n",
       "      <td>0.697937</td>\n",
       "      <td>0.69819</td>\n",
       "    </tr>\n",
       "    <tr>\n",
       "      <th>3</th>\n",
       "      <td>1594623638</td>\n",
       "      <td>0.69802</td>\n",
       "      <td>0.69817</td>\n",
       "      <td>0.00015</td>\n",
       "      <td>0.000000</td>\n",
       "      <td>0.697778</td>\n",
       "      <td>0.697793</td>\n",
       "      <td>0.697971</td>\n",
       "      <td>0.697584</td>\n",
       "      <td>0.000097</td>\n",
       "      <td>...</td>\n",
       "      <td>0.697736</td>\n",
       "      <td>0.000096</td>\n",
       "      <td>0.034059</td>\n",
       "      <td>57.977625</td>\n",
       "      <td>54.435484</td>\n",
       "      <td>0.69778</td>\n",
       "      <td>0.698093</td>\n",
       "      <td>0.698033</td>\n",
       "      <td>0.697937</td>\n",
       "      <td>0.69819</td>\n",
       "    </tr>\n",
       "    <tr>\n",
       "      <th>4</th>\n",
       "      <td>1594623638</td>\n",
       "      <td>0.69803</td>\n",
       "      <td>0.69817</td>\n",
       "      <td>0.00014</td>\n",
       "      <td>0.000014</td>\n",
       "      <td>0.697778</td>\n",
       "      <td>0.697794</td>\n",
       "      <td>0.697973</td>\n",
       "      <td>0.697583</td>\n",
       "      <td>0.000097</td>\n",
       "      <td>...</td>\n",
       "      <td>0.697735</td>\n",
       "      <td>0.000097</td>\n",
       "      <td>0.034059</td>\n",
       "      <td>57.977625</td>\n",
       "      <td>54.435484</td>\n",
       "      <td>0.69778</td>\n",
       "      <td>0.698093</td>\n",
       "      <td>0.698033</td>\n",
       "      <td>0.697937</td>\n",
       "      <td>0.69819</td>\n",
       "    </tr>\n",
       "  </tbody>\n",
       "</table>\n",
       "<p>5 rows × 32 columns</p>\n",
       "</div>"
      ],
      "text/plain": [
       "     Timestep     Sell      Buy   Spread  Change - Sell  \\\n",
       "0  1594623636  0.69802  0.69818  0.00016       0.000000   \n",
       "1  1594623636  0.69803  0.69817  0.00014       0.000014   \n",
       "2  1594623637  0.69802  0.69817  0.00015      -0.000014   \n",
       "3  1594623638  0.69802  0.69817  0.00015       0.000000   \n",
       "4  1594623638  0.69803  0.69817  0.00014       0.000014   \n",
       "\n",
       "   Simple Moving Average (SMA) - Sell  \\\n",
       "0                            0.697776   \n",
       "1                            0.697777   \n",
       "2                            0.697777   \n",
       "3                            0.697778   \n",
       "4                            0.697778   \n",
       "\n",
       "   Exponential Moving Average (EMA) - Sell  Bollinger Bands (Upper) - Sell  \\\n",
       "0                                 0.697791                        0.697966   \n",
       "1                                 0.697792                        0.697968   \n",
       "2                                 0.697792                        0.697970   \n",
       "3                                 0.697793                        0.697971   \n",
       "4                                 0.697794                        0.697973   \n",
       "\n",
       "   Bollinger Bands (Lower) - Sell  Standard Deviation (STD) - Sell  ...  \\\n",
       "0                        0.697586                         0.000095  ...   \n",
       "1                        0.697586                         0.000096  ...   \n",
       "2                        0.697585                         0.000096  ...   \n",
       "3                        0.697584                         0.000097  ...   \n",
       "4                        0.697583                         0.000097  ...   \n",
       "\n",
       "   Bollinger Bands (Lower) - Buy  Standard Deviation (STD) - Buy  \\\n",
       "0                       0.697738                        0.000094   \n",
       "1                       0.697737                        0.000095   \n",
       "2                       0.697737                        0.000096   \n",
       "3                       0.697736                        0.000096   \n",
       "4                       0.697735                        0.000097   \n",
       "\n",
       "   Sharpe Ratio - Buy  Relative Strength Index (RSI) via EWMA - Buy  \\\n",
       "0            0.041587                                     58.401030   \n",
       "1            0.038502                                     57.977625   \n",
       "2            0.034059                                     57.977625   \n",
       "3            0.034059                                     57.977625   \n",
       "4            0.034059                                     57.977625   \n",
       "\n",
       "   Relative Strength Index (RSI) via SMA - Buy  \\\n",
       "0                                    55.378486   \n",
       "1                                    54.980080   \n",
       "2                                    54.435484   \n",
       "3                                    54.435484   \n",
       "4                                    54.435484   \n",
       "\n",
       "   Fibonacci Retracement (Price Min) - Buy  \\\n",
       "0                                  0.69778   \n",
       "1                                  0.69778   \n",
       "2                                  0.69778   \n",
       "3                                  0.69778   \n",
       "4                                  0.69778   \n",
       "\n",
       "   Fibonacci Retracement (Level 1) - Buy  \\\n",
       "0                               0.698093   \n",
       "1                               0.698093   \n",
       "2                               0.698093   \n",
       "3                               0.698093   \n",
       "4                               0.698093   \n",
       "\n",
       "   Fibonacci Retracement (Level 2) - Buy  \\\n",
       "0                               0.698033   \n",
       "1                               0.698033   \n",
       "2                               0.698033   \n",
       "3                               0.698033   \n",
       "4                               0.698033   \n",
       "\n",
       "   Fibonacci Retracement (Level 3) - Buy  \\\n",
       "0                               0.697937   \n",
       "1                               0.697937   \n",
       "2                               0.697937   \n",
       "3                               0.697937   \n",
       "4                               0.697937   \n",
       "\n",
       "   Fibonacci Retracement (Price Max) - Buy  \n",
       "0                                  0.69819  \n",
       "1                                  0.69819  \n",
       "2                                  0.69819  \n",
       "3                                  0.69819  \n",
       "4                                  0.69819  \n",
       "\n",
       "[5 rows x 32 columns]"
      ]
     },
     "execution_count": 7,
     "metadata": {},
     "output_type": "execute_result"
    }
   ],
   "source": [
    "# Add more features to the dataset\n",
    "df = add_features(dataset)\n",
    "print(\"Dataset Shape: \", df.shape)\n",
    "df.head()"
   ]
  },
  {
   "cell_type": "markdown",
   "metadata": {},
   "source": [
    "<br>\n",
    "\n",
    "# Trading Environment\n",
    "\n",
    "---"
   ]
  },
  {
   "cell_type": "code",
   "execution_count": 8,
   "metadata": {},
   "outputs": [
    {
     "name": "stderr",
     "output_type": "stream",
     "text": [
      "/opt/anaconda3/envs/rl/lib/python3.7/site-packages/gym/logger.py:30: UserWarning: \u001b[33mWARN: Box bound precision lowered by casting to float32\u001b[0m\n",
      "  warnings.warn(colorize('%s: %s'%('WARN', msg % args), 'yellow'))\n"
     ]
    }
   ],
   "source": [
    "# Initialize the environment\n",
    "env = forex_trading_environment.TradingEnvironment(dataset = df, trading_type = 'virtual')"
   ]
  },
  {
   "cell_type": "markdown",
   "metadata": {},
   "source": [
    "<br>\n",
    "\n",
    "# Deep Learning Model\n",
    "\n",
    "---"
   ]
  },
  {
   "cell_type": "code",
   "execution_count": 9,
   "metadata": {},
   "outputs": [
    {
     "data": {
      "text/plain": [
       "Network(\n",
       "  (conv1): Conv1d(34, 512, kernel_size=(1,), stride=(1,))\n",
       "  (conv2): Conv1d(512, 512, kernel_size=(1,), stride=(1,))\n",
       "  (conv3): Conv1d(512, 512, kernel_size=(1,), stride=(1,))\n",
       "  (lstm): LSTM(1, 512, num_layers=4, bidirectional=True)\n",
       "  (relu): ReLU()\n",
       "  (fcl1): Linear(in_features=1024, out_features=512, bias=True)\n",
       "  (val1): Linear(in_features=512, out_features=512, bias=True)\n",
       "  (val2): Linear(in_features=512, out_features=1, bias=True)\n",
       "  (adv1): Linear(in_features=512, out_features=512, bias=True)\n",
       "  (adv2): Linear(in_features=512, out_features=3, bias=True)\n",
       ")"
      ]
     },
     "execution_count": 9,
     "metadata": {},
     "output_type": "execute_result"
    }
   ],
   "source": [
    "# Initialize the CNN-LSTM network\n",
    "net = cnn_lstm.Network(input_size = 34, actions_n = 3)\n",
    "net"
   ]
  },
  {
   "cell_type": "markdown",
   "metadata": {},
   "source": [
    "<br>\n",
    "\n",
    "# Reinforcement Learning\n",
    "\n",
    "---"
   ]
  },
  {
   "cell_type": "code",
   "execution_count": 10,
   "metadata": {},
   "outputs": [],
   "source": [
    "# Initialize the rainbow algorithm\n",
    "rainbow_agent = rainbow.RainbowAlgorithm()"
   ]
  },
  {
   "cell_type": "markdown",
   "metadata": {},
   "source": [
    "<br>\n",
    "\n",
    "# Train the Model\n",
    "\n",
    "---"
   ]
  },
  {
   "cell_type": "code",
   "execution_count": null,
   "metadata": {
    "scrolled": false
   },
   "outputs": [
    {
     "name": "stdout",
     "output_type": "stream",
     "text": [
      "\t\t\t      ===================================================\n",
      "\t\t\t      \t               EPISODE 11\n",
      "\t\t\t      \t              TIMESTEP 36\n",
      "\t\t\t      ===================================================\n",
      "\t\t\t           Action:                       🟢 BUY\n",
      "\t\t\t           Profit:                     $ -0.106005000\n",
      "\t\t\t           Reward:                       685189.000000000\n",
      "\t\t\t        .............................................\n",
      "\t\t\t           Account Balance:            $ 10.204885000\n",
      "\t\t\t           Initial Networth:           $ 100.000000000\n",
      "\t\t\t           Current Networth:           $ 99.893995000 👎\n",
      "\t\t\t        .............................................\n",
      "\t\t\t           Per Share Price (Buy):      $ 122.039000000\n",
      "\t\t\t           Per Share Price (Sell):     $ 122.016000000\n",
      "\t\t\t           Number of Holding Shares:     147.0\n",
      "\t\t\t           Shares Dollar Values:       $ 17936.352000000\n",
      "\t\t\t      ===================================================\n"
     ]
    },
    {
     "data": {
      "image/png": "[encoded data removed]",
      "text/plain": [
       "<Figure size 1152x288 with 1 Axes>"
      ]
     },
     "metadata": {
      "needs_background": "light"
     },
     "output_type": "display_data"
    }
   ],
   "source": [
    "# Train the model\n",
    "rainbow_agent.train_model()"
   ]
  },
  {
   "cell_type": "markdown",
   "metadata": {},
   "source": [
    "# The End!"
   ]
  }
 ],
 "metadata": {
  "file_extension": ".py",
  "kernelspec": {
   "display_name": "rl",
   "language": "python",
   "name": "rl"
  },
  "language_info": {
   "codemirror_mode": {
    "name": "ipython",
    "version": 3
   },
   "file_extension": ".py",
   "mimetype": "text/x-python",
   "name": "python",
   "nbconvert_exporter": "python",
   "pygments_lexer": "ipython3",
   "version": "3.7.7"
  },
  "mimetype": "text/x-python",
  "name": "python",
  "npconvert_exporter": "python",
  "pygments_lexer": "ipython2",
  "version": 2
 },
 "nbformat": 4,
 "nbformat_minor": 2
}
