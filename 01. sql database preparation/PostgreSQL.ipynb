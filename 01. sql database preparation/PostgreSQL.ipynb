{
 "nbformat": 4,
 "nbformat_minor": 2,
 "metadata": {
  "language_info": {
   "name": "python",
   "codemirror_mode": {
    "name": "ipython",
    "version": 3
   },
   "version": "3.7.7-final"
  },
  "orig_nbformat": 2,
  "file_extension": ".py",
  "mimetype": "text/x-python",
  "name": "python",
  "npconvert_exporter": "python",
  "pygments_lexer": "ipython3",
  "version": 3,
  "kernelspec": {
   "name": "python37764bitrlconda1a81622273ff40aba396eb7e9d60205b",
   "display_name": "Python 3.7.7 64-bit ('rl': conda)"
  }
 },
 "cells": [
  {
   "cell_type": "markdown",
   "execution_count": 75,
   "metadata": {},
   "outputs": [],
   "source": [
    "# PostgreSQL"
   ]
  },
  {
   "cell_type": "markdown",
   "execution_count": null,
   "metadata": {},
   "outputs": [],
   "source": [
    "<br>\n",
    "\n",
    "# Import the Packages\n",
    "\n",
    "---"
   ]
  },
  {
   "cell_type": "code",
   "execution_count": 1,
   "metadata": {},
   "outputs": [],
   "source": [
    "# Import the libraries\n",
    "import psycopg2\n",
    "from psycopg2 import sql\n",
    "from psycopg2.extensions import ISOLATION_LEVEL_AUTOCOMMIT \n",
    "import pandas as pd"
   ]
  },
  {
   "cell_type": "markdown",
   "execution_count": null,
   "metadata": {},
   "outputs": [],
   "source": [
    "<br>\n",
    "\n",
    "# Create Database\n",
    "\n",
    "---"
   ]
  },
  {
   "cell_type": "code",
   "execution_count": 2,
   "metadata": {},
   "outputs": [],
   "source": [
    "# Create a database named \"FOREX\"\n",
    "con = psycopg2.connect(dbname = 'postgres',\n",
    "                       user = \"postgres\", \n",
    "                       host = '',\n",
    "                       password = \"6989490\")\n",
    "\n",
    "con.set_isolation_level(ISOLATION_LEVEL_AUTOCOMMIT) \n",
    "\n",
    "cur = con.cursor()\n",
    "\n",
    "db_name = \"FOREX\"\n",
    "cur.execute(sql.SQL(\"CREATE DATABASE {}\").format(sql.Identifier(db_name)))  # Use the psycopg2.sql module instead of string concatenation in order to avoid sql injection attacs.\n",
    "\n",
    "# Commit and close the connection\n",
    "con.commit()\n",
    "con.close()"
   ]
  },
  {
   "cell_type": "markdown",
   "execution_count": null,
   "metadata": {},
   "outputs": [],
   "source": [
    "<br>\n",
    "\n",
    "# Create Table\n",
    "\n",
    "---"
   ]
  },
  {
   "cell_type": "code",
   "execution_count": 12,
   "metadata": {},
   "outputs": [
    {
     "name": "stdout",
     "output_type": "stream",
     "text": "Database opened successfully\n"
    }
   ],
   "source": [
    "# Connect to the database\n",
    "con = psycopg2.connect(database = \"TDAMERITRADE\", \n",
    "                       user = \"postgres\", \n",
    "                       password = \"YourPassword\", \n",
    "                       host = \"127.0.0.1\", \n",
    "                       port = \"5432\")\n",
    "\n",
    "print(\"Database opened successfully\")"
   ]
  },
  {
   "cell_type": "code",
   "execution_count": 13,
   "metadata": {},
   "outputs": [],
   "source": [
    "# Initialize a cursor\n",
    "cur = con.cursor()"
   ]
  },
  {
   "cell_type": "code",
   "execution_count": null,
   "metadata": {},
   "outputs": [],
   "source": [
    "# Create a table\n",
    "cur.execute('''\n",
    "                CREATE TABLE TD_Ameritrade_2020_July(\n",
    "                    Index                               SERIAL                PRIMARY KEY,\n",
    "                    assetType                           VARCHAR,\n",
    "                    assetMainType                       VARCHAR,\n",
    "                    cusip                               VARCHAR,\n",
    "                    symbol                              VARCHAR,\n",
    "                    description                         VARCHAR,\n",
    "                    bidPrice                            FLOAT,\n",
    "                    bidSize                             BIGINT,\n",
    "                    bidId                               VARCHAR,\n",
    "                    askPrice                            FLOAT,\n",
    "                    askSize                             BIGINT,\n",
    "                    askId                               VARCHAR,\n",
    "                    lastPrice                           FLOAT,\n",
    "                    lastSize                            BIGINT,\n",
    "                    lastId                              VARCHAR,\n",
    "                    openPrice                           FLOAT,\n",
    "                    highPrice                           FLOAT,\n",
    "                    lowPrice                            FLOAT,               \n",
    "                    bidTick                             VARCHAR,\n",
    "                    closePrice                          FLOAT,\n",
    "                    netChange                           FLOAT,\n",
    "                    totalVolume                         BIGINT,\n",
    "                    quoteTimeInLong                     BIGINT,\n",
    "                    tradeTimeInLong                     BIGINT,\n",
    "                    mark                                FLOAT,\n",
    "                    exchange                            VARCHAR,\n",
    "                    exchangeName                        VARCHAR,\n",
    "                    marginable                          BOOLEAN,\n",
    "                    shortable                           BOOLEAN,\n",
    "                    volatility                          FLOAT,\n",
    "                    digits                              BIGINT,\n",
    "                    High52Wk                            FLOAT,\n",
    "                    Low52Wk                             FLOAT,\n",
    "                    nAV                                 FLOAT,\n",
    "                    peRatio                             FLOAT,    \n",
    "                    divAmount                           FLOAT,\n",
    "                    divYield                            FLOAT,\n",
    "                    divDate                             VARCHAR,\n",
    "                    securityStatus                      VARCHAR,\n",
    "                    regularMarketLastPrice              FLOAT,\n",
    "                    regularMarketLastSize               BIGINT,\n",
    "                    regularMarketNetChange              FLOAT,\n",
    "                    regularMarketTradeTimeInLong        BIGINT,\n",
    "                    netPercentChangeInDouble            FLOAT,\n",
    "                    markChangeInDouble                  FLOAT,\n",
    "                    markPercentChangeInDouble           FLOAT,\n",
    "                    regularMarketPercentChangeInDouble  FLOAT,\n",
    "                    delayed                             BOOLEAN\n",
    "                    );\n",
    "      ''')\n",
    "print(\"Table created successfully\")"
   ]
  },
  {
   "cell_type": "code",
   "execution_count": 11,
   "metadata": {},
   "outputs": [],
   "source": [
    "# Commit and close the connection\n",
    "con.commit()\n",
    "con.close()"
   ]
  },
  {
   "cell_type": "markdown",
   "execution_count": null,
   "metadata": {},
   "outputs": [],
   "source": [
    "<br>\n",
    "\n",
    "# Insert Values\n",
    "\n",
    "---"
   ]
  },
  {
   "cell_type": "code",
   "execution_count": 105,
   "metadata": {},
   "outputs": [
    {
     "name": "stdout",
     "output_type": "stream",
     "text": "Database opened successfully\n"
    }
   ],
   "source": [
    "# Connect to the database\n",
    "con = psycopg2.connect(database = \"FOREX\", \n",
    "                       user = \"postgres\", \n",
    "                       password = \"YourPassword\", \n",
    "                       host = \"127.0.0.1\", \n",
    "                       port = \"5432\")\n",
    "\n",
    "print(\"Database opened successfully\")"
   ]
  },
  {
   "cell_type": "code",
   "execution_count": 106,
   "metadata": {},
   "outputs": [],
   "source": [
    "# Initialize a cursor\n",
    "cur = con.cursor()"
   ]
  },
  {
   "cell_type": "code",
   "execution_count": 107,
   "metadata": {},
   "outputs": [],
   "source": [
    "# Insert values to the table\n",
    "cur.execute(\"INSERT INTO Forex_2020_July (FX,SELL,BUY,CHANGE,CHANGE_PERCENTAGE,TIME)  \\\n",
    "             VALUES ('USD/USD',25.543,25.601,12.43,0.32456,132345674243)\")"
   ]
  },
  {
   "cell_type": "code",
   "execution_count": 108,
   "metadata": {},
   "outputs": [],
   "source": [
    "# Commit and close the connection\n",
    "con.commit()\n",
    "con.close()"
   ]
  },
  {
   "cell_type": "markdown",
   "execution_count": null,
   "metadata": {},
   "outputs": [],
   "source": [
    "<br>\n",
    "\n",
    "# Retrieve Values\n",
    "\n",
    "---"
   ]
  },
  {
   "cell_type": "code",
   "execution_count": 109,
   "metadata": {},
   "outputs": [
    {
     "name": "stdout",
     "output_type": "stream",
     "text": "Database opened successfully\n"
    }
   ],
   "source": [
    "# Connect to the database\n",
    "con = psycopg2.connect(database = \"FOREX\", \n",
    "                       user = \"postgres\", \n",
    "                       password = \"YourPassword\", \n",
    "                       host = \"127.0.0.1\", \n",
    "                       port = \"5432\")\n",
    "\n",
    "print(\"Database opened successfully\")"
   ]
  },
  {
   "cell_type": "code",
   "execution_count": 110,
   "metadata": {},
   "outputs": [],
   "source": [
    "# Initialize a cursor\n",
    "cur = con.cursor()"
   ]
  },
  {
   "cell_type": "code",
   "execution_count": 111,
   "metadata": {},
   "outputs": [
    {
     "data": {
      "text/html": "<div>\n<style scoped>\n    .dataframe tbody tr th:only-of-type {\n        vertical-align: middle;\n    }\n\n    .dataframe tbody tr th {\n        vertical-align: top;\n    }\n\n    .dataframe thead th {\n        text-align: right;\n    }\n</style>\n<table border=\"1\" class=\"dataframe\">\n  <thead>\n    <tr style=\"text-align: right;\">\n      <th></th>\n      <th>index</th>\n      <th>ticker</th>\n      <th>sell</th>\n      <th>buy</th>\n      <th>change</th>\n      <th>change_percentage</th>\n      <th>time</th>\n    </tr>\n  </thead>\n  <tbody>\n  </tbody>\n</table>\n</div>",
      "text/plain": "Empty DataFrame\nColumns: [index, ticker, sell, buy, change, change_percentage, time]\nIndex: []"
     },
     "execution_count": 111,
     "metadata": {},
     "output_type": "execute_result"
    }
   ],
   "source": [
    "# Load the table into dataframe\n",
    "dataset = pd.read_sql_query(sql = \"SELECT * FROM Forex_2020_July\", con = con)\n",
    "dataset.head()"
   ]
  },
  {
   "cell_type": "code",
   "execution_count": 112,
   "metadata": {},
   "outputs": [],
   "source": [
    "# Close the cursor and connection to so the server can allocate bandwidth to other requests\n",
    "cur.close()\n",
    "con.close()"
   ]
  },
  {
   "cell_type": "markdown",
   "execution_count": null,
   "metadata": {},
   "outputs": [],
   "source": [
    "<br>\n",
    "\n",
    "# Delete Values\n",
    "\n",
    "---"
   ]
  },
  {
   "cell_type": "code",
   "execution_count": 97,
   "metadata": {},
   "outputs": [
    {
     "name": "stdout",
     "output_type": "stream",
     "text": "Database opened successfully\n"
    }
   ],
   "source": [
    "# Connect to the database\n",
    "con = psycopg2.connect(database = \"FOREX\", \n",
    "                       user = \"postgres\", \n",
    "                       password = \"YourPassword\", \n",
    "                       host = \"127.0.0.1\", \n",
    "                       port = \"5432\")\n",
    "\n",
    "print(\"Database opened successfully\")"
   ]
  },
  {
   "cell_type": "code",
   "execution_count": 98,
   "metadata": {},
   "outputs": [],
   "source": [
    "# Initialize a cursor\n",
    "cur = con.cursor()"
   ]
  },
  {
   "cell_type": "code",
   "execution_count": 99,
   "metadata": {},
   "outputs": [],
   "source": [
    "# Delete all rows\n",
    "cur.execute(\"DELETE FROM Forex_2020_July\")"
   ]
  },
  {
   "cell_type": "code",
   "execution_count": 100,
   "metadata": {},
   "outputs": [],
   "source": [
    "# Close the cursor and connection to so the server can allocate bandwidth to other requests\n",
    "cur.close()\n",
    "con.close()"
   ]
  },
  {
   "cell_type": "markdown",
   "execution_count": null,
   "metadata": {},
   "outputs": [],
   "source": [
    "# The End!"
   ]
  }
 ]
}